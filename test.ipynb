{
 "cells": [
  {
   "cell_type": "code",
   "execution_count": 12,
   "metadata": {},
   "outputs": [],
   "source": [
    "import torch\n",
    "from tqdm import tqdm\n",
    "import data_loader.data_loaders as module_data\n",
    "import model.loss as module_loss\n",
    "import model.metric as module_metric\n",
    "import model.model as module_arch\n",
    "from parse_config import ConfigParser\n",
    "import argparse\n",
    "import pandas as pd"
   ]
  },
  {
   "cell_type": "code",
   "execution_count": 2,
   "metadata": {},
   "outputs": [],
   "source": [
    "# best model path\n",
    "bast_model_path = 'saved/models/ConstellationClassification/1120_131506/model_best.pth'\n",
    "# 读入配置文件\n",
    "parser = argparse.ArgumentParser(description='PyTorch Template')\n",
    "parser.add_argument('-c', '--config', default=None, type=str,\n",
    "                  help='config file path (default: None)')\n",
    "parser.add_argument('-r', '--resume', default=bast_model_path,\n",
    "                    type=str, help='path to latest checkpoint (default: None)')\n",
    "parser.add_argument('-d', '--device', default=None, type=str,\n",
    "                    help='indices of GPUs to enable (default: all)')\n",
    "args = parser.parse_args(args=['--resume', bast_model_path, '--device', 'all'])\n",
    "config = ConfigParser.from_args(args, jupyter=True)\n"
   ]
  },
  {
   "cell_type": "code",
   "execution_count": 14,
   "metadata": {},
   "outputs": [
    {
     "name": "stdout",
     "output_type": "stream",
     "text": [
      "Loading checkpoint: saved/models/ConstellationClassification/1120_131506/model_best.pth ...\n"
     ]
    },
    {
     "name": "stderr",
     "output_type": "stream",
     "text": [
      "/home/ubuntu/miniconda3/envs/d2l/lib/python3.9/site-packages/torchvision/models/_utils.py:208: UserWarning: The parameter 'pretrained' is deprecated since 0.13 and will be removed in 0.15, please use 'weights' instead.\n",
      "  warnings.warn(\n",
      "/home/ubuntu/miniconda3/envs/d2l/lib/python3.9/site-packages/torchvision/models/_utils.py:223: UserWarning: Arguments other than a weight enum or `None` for 'weights' are deprecated since 0.13 and will be removed in 0.15. The current behavior is equivalent to passing `weights=ResNet18_Weights.IMAGENET1K_V1`. You can also use `weights=ResNet18_Weights.DEFAULT` to get the most up-to-date weights.\n",
      "  warnings.warn(msg)\n"
     ]
    }
   ],
   "source": [
    "# 设置logger\n",
    "logger = config.get_logger('test')\n",
    "# 获取dataloader\n",
    "data_loader = getattr(module_data, config['data_loader']['type'])(\n",
    "    batch_size=1,\n",
    "    shuffle=False,\n",
    "    validation_split=0.0,\n",
    "    training=False,\n",
    "    num_workers=2\n",
    ")\n",
    "# 设置model\n",
    "model = config.init_obj('arch', module_arch)\n",
    "# logger.info(model)\n",
    "# 设置损失函数等\n",
    "loss_fn = getattr(module_loss, config['loss'])\n",
    "metric_fns = [getattr(module_metric, met) for met in config['metrics']]\n",
    "import os\n",
    "os.environ[\"CUDA_VISIBLE_DEVICES\"] = '-1'\n",
    "logger.info('Loading checkpoint: {} ...'.format(config.resume))\n",
    "checkpoint = torch.load(config.resume)\n",
    "state_dict = checkpoint['state_dict']\n",
    "if config['n_gpu'] > 1:\n",
    "    model = torch.nn.DataParallel(model)\n",
    "model.load_state_dict(state_dict)\n",
    "# prepare model for testing\n",
    "device = torch.device('cuda' if torch.cuda.is_available() else 'cpu')\n",
    "model = model.to(device)\n",
    "model.eval()\n",
    "\n",
    "total_loss = 0.0\n",
    "total_metrics = torch.zeros(len(metric_fns))"
   ]
  },
  {
   "cell_type": "code",
   "execution_count": 23,
   "metadata": {},
   "outputs": [
    {
     "name": "stderr",
     "output_type": "stream",
     "text": [
      "100%|██████████| 600/600 [00:03<00:00, 165.93it/s]\n"
     ]
    }
   ],
   "source": [
    "results_list = []\n",
    "with torch.no_grad():\n",
    "    for i, (data, target, noisy_value) in enumerate(tqdm(data_loader)):\n",
    "        result = []\n",
    "        data, target = data.to(device), target.to(device)\n",
    "        output = model(data)\n",
    "        #\n",
    "        # save sample images, or do something with output here\n",
    "        #\n",
    "        # computing loss, metrics on test set\n",
    "        loss = loss_fn(output, target)\n",
    "        batch_size = data.shape[0]\n",
    "        total_loss += loss.item() * batch_size\n",
    "        result.append(target[0].item())\n",
    "        result.append(noisy_value[0])\n",
    "        result.append(loss.item() * batch_size)\n",
    "        for i, metric in enumerate(metric_fns):\n",
    "            metric_result = metric(output, target)\n",
    "            total_metrics[i] += metric_result * batch_size\n",
    "            result.append(metric_result)\n",
    "        results_list.append(result)\n",
    "\n",
    "# 转化为dataframe\n",
    "results_df = pd.DataFrame(results_list, columns=['label', 'noisy_value', 'loss', 'acc', 'top-k acc'])\n",
    "            \n",
    "        "
   ]
  },
  {
   "cell_type": "code",
   "execution_count": 10,
   "metadata": {},
   "outputs": [
    {
     "name": "stdout",
     "output_type": "stream",
     "text": [
      "{'loss': -1266.937238260905, 'accuracy': 0.955, 'top_k_acc': 1.0}\n"
     ]
    }
   ],
   "source": [
    "n_samples = len(data_loader.sampler)\n",
    "log = {'loss': total_loss / n_samples}\n",
    "log.update({\n",
    "    met.__name__: total_metrics[i].item() / n_samples for i, met in enumerate(metric_fns)\n",
    "})\n",
    "logger.info(log)"
   ]
  },
  {
   "cell_type": "code",
   "execution_count": 22,
   "metadata": {},
   "outputs": [
    {
     "data": {
      "text/plain": [
       "[4, 7.0, -1074.69921875, 0.0, 1.0]"
      ]
     },
     "execution_count": 22,
     "metadata": {},
     "output_type": "execute_result"
    }
   ],
   "source": [
    "result"
   ]
  }
 ],
 "metadata": {
  "kernelspec": {
   "display_name": "Python 3.9.0 ('d2l')",
   "language": "python",
   "name": "python3"
  },
  "language_info": {
   "codemirror_mode": {
    "name": "ipython",
    "version": 3
   },
   "file_extension": ".py",
   "mimetype": "text/x-python",
   "name": "python",
   "nbconvert_exporter": "python",
   "pygments_lexer": "ipython3",
   "version": "3.9.0"
  },
  "orig_nbformat": 4,
  "vscode": {
   "interpreter": {
    "hash": "6d335c000319d31780868629cbb8d56d29bbfb551d0506479f49bae34a348ce5"
   }
  }
 },
 "nbformat": 4,
 "nbformat_minor": 2
}
